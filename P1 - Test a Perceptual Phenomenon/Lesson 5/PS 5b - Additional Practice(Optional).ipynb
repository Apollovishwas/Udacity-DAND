{
 "cells": [
  {
   "cell_type": "markdown",
   "metadata": {},
   "source": [
    "<ul>\n",
    "    <li><a href=#question7>7. Mean and SD</a></li>\n",
    "    <li><a href=#question8>8. IQ 125</a></li>\n",
    "    <li><a href=#question9>9. IQ 150</a></li>\n",
    "    <li><a href=#question20>20. BBC - Sleep</a></li>\n",
    "    <li><a href=#question22>22. BBC - Temporal</a></li>\n",
    "    <li><a href=#question23>23. BBC - What Score?</a></li>\n",
    "</ul>"
   ]
  },
  {
   "cell_type": "markdown",
   "metadata": {},
   "source": [
    "<a id='question7'></a>"
   ]
  },
  {
   "cell_type": "markdown",
   "metadata": {},
   "source": [
    "### 7. Mean and SD\n",
    "\n",
    "Open the spreadsheet (link shared) containing data of 70 IQ scores.\n",
    "We're going to treat it as a population.\n",
    "\n",
    "Calculate the mean.\n",
    "$$\\mu = \\frac{\\sum x_i}{n}$$\n",
    "\n",
    "Calculate the standard deviation (Hints in \"Instructor note\" section if needed.)\n",
    "$$\\sigma = \\sqrt{\\frac{\\sum{\\left(x_i - \\mu\\right)^2}}{n}}$$"
   ]
  },
  {
   "cell_type": "code",
   "execution_count": 15,
   "metadata": {
    "collapsed": false
   },
   "outputs": [
    {
     "name": "stdout",
     "output_type": "stream",
     "text": [
      "mean = 100.83\n",
      "sigma = 14.908\n"
     ]
    }
   ],
   "source": [
    "import pandas as pd\n",
    "iq_scores = pd.read_csv('IQ scores (Problem Set 5) - Sheet1.csv', header=None)\n",
    "mu = iq_scores[0].mean()\n",
    "print(\"mean = %0.2f\" % (mu))\n",
    "sigma = iq_scores[0].std(ddof=0)\n",
    "print(\"sigma = %0.3f\" % (sigma))"
   ]
  },
  {
   "cell_type": "code",
   "execution_count": 16,
   "metadata": {
    "collapsed": false
   },
   "outputs": [
    {
     "data": {
      "text/plain": [
       "array([-0.59219314,  1.08472917,  0.54811404, -1.06173138,  1.08472917,\n",
       "        0.41396025, -1.26296206, -1.19588517,  1.21888296,  0.8164216 ,\n",
       "        0.0114989 ,  0.34688336,  0.0114989 , -1.12880827,  1.68842121,\n",
       "       -2.13496166, -1.26296206, -1.46419274, -1.12880827, -0.055578  ,\n",
       "        0.21272957,  0.68226782,  0.54811404, -0.59219314, -0.52511624,\n",
       "        0.41396025, -1.33003895,  1.15180607, -1.33003895,  2.15795945,\n",
       "        0.68226782, -1.26296206,  1.28595985,  0.14565268,  0.95057539,\n",
       "       -0.79342381, -1.7995772 ,  0.61519093, -1.19588517,  0.61519093,\n",
       "       -0.32388557,  0.07857579,  0.48103714,  0.61519093,  2.6274977 ,\n",
       "        0.34688336,  0.68226782, -0.18973178, -0.18973178, -0.12265489,\n",
       "       -1.7995772 ,  0.0114989 ,  0.41396025,  0.21272957,  1.82257499,\n",
       "       -0.9275776 , -0.39096246,  0.54811404,  0.21272957, -0.65927003,\n",
       "       -1.19588517, -0.18973178, -0.12265489,  0.14565268,  1.68842121,\n",
       "        1.48719053, -1.06173138, -0.18973178, -0.52511624, -0.055578  ])"
      ]
     },
     "execution_count": 16,
     "metadata": {},
     "output_type": "execute_result"
    }
   ],
   "source": [
    "from scipy import stats\n",
    "stats.zscore(iq_scores[0])"
   ]
  },
  {
   "cell_type": "markdown",
   "metadata": {},
   "source": [
    "<a id='question8'></a>"
   ]
  },
  {
   "cell_type": "markdown",
   "metadata": {},
   "source": [
    "### 8. IQ 125\n",
    "\n",
    "How many standard deviations above the is an IQ of 125?\n",
    "(In other words what is the Z-Score for 125?)"
   ]
  },
  {
   "cell_type": "code",
   "execution_count": 21,
   "metadata": {
    "collapsed": false
   },
   "outputs": [
    {
     "data": {
      "text/plain": [
       "1.621344313383335"
      ]
     },
     "execution_count": 21,
     "metadata": {},
     "output_type": "execute_result"
    }
   ],
   "source": [
    "z = (125-mu) / sigma\n",
    "z"
   ]
  },
  {
   "cell_type": "markdown",
   "metadata": {},
   "source": [
    "<a id='question9'></a>"
   ]
  },
  {
   "cell_type": "markdown",
   "metadata": {},
   "source": [
    "### 9. IQ 150\n",
    "\n",
    "How many standard deviations above the is an IQ of 150?\n",
    "(In other words what is the Z-Score for 150?)"
   ]
  },
  {
   "cell_type": "code",
   "execution_count": 25,
   "metadata": {
    "collapsed": false
   },
   "outputs": [
    {
     "data": {
      "text/plain": [
       "3.302013422818792"
      ]
     },
     "execution_count": 25,
     "metadata": {},
     "output_type": "execute_result"
    }
   ],
   "source": [
    "# adding the values from the video, because they calculated it with these values, which have a rounding error.\n",
    "mu = 100.8 \n",
    "sigma = 14.9\n",
    "\n",
    "zz = (150 - mu) / sigma\n",
    "zz"
   ]
  },
  {
   "cell_type": "markdown",
   "metadata": {},
   "source": [
    "<a id='question20'></a>"
   ]
  },
  {
   "cell_type": "markdown",
   "metadata": {},
   "source": [
    "### 20. BBC - Sleep"
   ]
  },
  {
   "cell_type": "code",
   "execution_count": 26,
   "metadata": {
    "collapsed": false
   },
   "outputs": [
    {
     "data": {
      "text/plain": [
       "0.5638766519823789"
      ]
     },
     "execution_count": 26,
     "metadata": {},
     "output_type": "execute_result"
    }
   ],
   "source": [
    "mu = 6.72\n",
    "sigma = 2.27\n",
    "\n",
    "zzz = (8 - mu) / sigma\n",
    "zzz"
   ]
  },
  {
   "cell_type": "markdown",
   "metadata": {},
   "source": [
    "<a id='question22'></a>"
   ]
  },
  {
   "cell_type": "markdown",
   "metadata": {},
   "source": [
    "### 22. BBC - Temporal"
   ]
  },
  {
   "cell_type": "code",
   "execution_count": 29,
   "metadata": {
    "collapsed": false
   },
   "outputs": [
    {
     "data": {
      "text/plain": [
       "0.9375"
      ]
     },
     "execution_count": 29,
     "metadata": {},
     "output_type": "execute_result"
    }
   ],
   "source": [
    "mu = 77\n",
    "sigma = 16\n",
    "\n",
    "temp_z = (92 - mu) / sigma\n",
    "temp_z"
   ]
  },
  {
   "cell_type": "markdown",
   "metadata": {},
   "source": [
    "<a id='question23'></a>"
   ]
  },
  {
   "cell_type": "markdown",
   "metadata": {},
   "source": [
    "### BBC - What Score?"
   ]
  },
  {
   "cell_type": "code",
   "execution_count": 32,
   "metadata": {
    "collapsed": false
   },
   "outputs": [
    {
     "data": {
      "text/plain": [
       "63.2"
      ]
     },
     "execution_count": 32,
     "metadata": {},
     "output_type": "execute_result"
    }
   ],
   "source": [
    "mu = 92\n",
    "sigma = 24\n",
    "z_score = -1.2\n",
    "\n",
    "score = z_score*sigma + mu\n",
    "score"
   ]
  },
  {
   "cell_type": "code",
   "execution_count": null,
   "metadata": {
    "collapsed": true
   },
   "outputs": [],
   "source": []
  }
 ],
 "metadata": {
  "kernelspec": {
   "display_name": "Python 3",
   "language": "python",
   "name": "python3"
  },
  "language_info": {
   "codemirror_mode": {
    "name": "ipython",
    "version": 3
   },
   "file_extension": ".py",
   "mimetype": "text/x-python",
   "name": "python",
   "nbconvert_exporter": "python",
   "pygments_lexer": "ipython3",
   "version": "3.4.3"
  }
 },
 "nbformat": 4,
 "nbformat_minor": 0
}
