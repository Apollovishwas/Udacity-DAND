{
 "cells": [
  {
   "cell_type": "markdown",
   "metadata": {},
   "source": [
    "<ul>\n",
    "  <li><a href=#question1>1. Independent variable and dependent variable.</a></li>\n",
    "  <li><a href=#question2>2. Hypothesis and type of statistical test.</a></li>\n",
    "  <li><a href=#question3>3. Descriptive statistics: measure of central tendancy and measure of varaibility.</a></li>\n",
    "  <li><a href=#question4>4. Visualizing the sample data.</a></li>\n",
    "  <li><a href=#question5>5. Results of statistical test and conclusions.<a></li>\n",
    "  <li><a href=#question6>6. Optional: possible causes and equivalent tasks.</a></li>\n",
    "  \n",
    "</ul>"
   ]
  },
  {
   "cell_type": "markdown",
   "metadata": {},
   "source": [
    "# Background Information\n",
    "\n",
    "In a Stroop task, participants are presented with a list of words, with each word displayed in a color of ink. The participant’s task is to say out loud the color of the ink in which the word is printed. The task has two conditions: a congruent words condition, and an incongruent words condition. In the congruent words condition, the words being displayed are color words whose names match the colors in which they are printed: for example <font color='red'>RED</font>,<font color='blue'> BLUE</font>. In the incongruent words condition, the words displayed are color words whose names do not match the colors in which they are printed: for example <font color='green'>PURPLE</font>, <font color='purple'>ORANGE</font>. In each case, we measure the time it takes to name the ink colors in equally-sized lists. Each participant will go through and record a time from each condition."
   ]
  },
  {
   "cell_type": "markdown",
   "metadata": {},
   "source": [
    "# Questions For Investigation\n",
    "\n",
    "As a general note, be sure to keep a record of any resources that you use or refer to in the creation of your project. You will need to report your sources as part of the project submission."
   ]
  },
  {
   "cell_type": "markdown",
   "metadata": {},
   "source": [
    "<a id='question1'></a>"
   ]
  },
  {
   "cell_type": "markdown",
   "metadata": {},
   "source": [
    "### 1. What is our independent variable? What is our dependent variable?"
   ]
  },
  {
   "cell_type": "markdown",
   "metadata": {},
   "source": [
    "The independent variable is the condition. There are two conditions in this case, the congruent words condition and the incongruent words condition.\\n\n",
    "The dependent variable is the time it takes to name the ink colors. "
   ]
  },
  {
   "cell_type": "markdown",
   "metadata": {},
   "source": [
    "<a id='question2'></a>"
   ]
  },
  {
   "cell_type": "markdown",
   "metadata": {},
   "source": [
    "### 2. What is an appropriate set of hypotheses for this task? What kind of statistical test do you expect to perform? Justify your choices."
   ]
  },
  {
   "cell_type": "markdown",
   "metadata": {},
   "source": [
    "We have two conditions and for the null hypothesis we take that $\\mu$ in the first condition is the same as $\\mu$ for the second condition. For the alternative hypothesis we say that $\\mu_{congruent}$ is smaller than $\\mu_{incongruent}$. We want to the test if people are faster in the first condition than the second.\n",
    "\n",
    "$$H_0: \\mu_{C} = \\mu_{I} (\\mu_{C} - \\mu_{I} = 0)$$\n",
    "$$H_a: \\mu_{C} < \\mu_{I} (\\mu_{C} - \\mu_{I} < 0)$$\n",
    "\n",
    "A t-test applies to this example because:\n",
    "1. We have 24 samples which is less than 30.\n",
    "2. We don't know the population's standard deviation. (We're trying to estimate the mean of a normally distributed population).\n",
    "3. Assumption of normality, based on the histogram and Q-Q plots the distributions of both samples and the differences seem normal.(<a href=#qq-plot>See Q-Q plot</a>)\n",
    "\n",
    "http://www.statisticshowto.com/when-to-use-a-t-score-vs-z-score/\n",
    "As this is a within-subject design a dependent t-test for paired samples would the best choice. And in this case a one-tailed test in the negative direction. And we will choose an alpha level of 0.01."
   ]
  },
  {
   "cell_type": "markdown",
   "metadata": {},
   "source": [
    "#### My Personal results\n",
    "\n",
    "Word Set #1 = 15.57 seconds (Congruent)  \n",
    "Word Set #2 = 23.041 seconds (Incongruent)"
   ]
  },
  {
   "cell_type": "markdown",
   "metadata": {},
   "source": [
    "<a id='question3'></a>"
   ]
  },
  {
   "cell_type": "markdown",
   "metadata": {},
   "source": [
    "### 3. Report some descriptive statistics regarding this dataset. Include at least one measure of central tendency and at least one measure of variability."
   ]
  },
  {
   "cell_type": "code",
   "execution_count": 3,
   "metadata": {
    "collapsed": false
   },
   "outputs": [
    {
     "data": {
      "text/html": [
       "<div>\n",
       "<table border=\"1\" class=\"dataframe\">\n",
       "  <thead>\n",
       "    <tr style=\"text-align: right;\">\n",
       "      <th></th>\n",
       "      <th>Congruent</th>\n",
       "      <th>Incongruent</th>\n",
       "    </tr>\n",
       "  </thead>\n",
       "  <tbody>\n",
       "    <tr>\n",
       "      <th>0</th>\n",
       "      <td>12.079</td>\n",
       "      <td>19.278</td>\n",
       "    </tr>\n",
       "    <tr>\n",
       "      <th>1</th>\n",
       "      <td>16.791</td>\n",
       "      <td>18.741</td>\n",
       "    </tr>\n",
       "    <tr>\n",
       "      <th>2</th>\n",
       "      <td>9.564</td>\n",
       "      <td>21.214</td>\n",
       "    </tr>\n",
       "    <tr>\n",
       "      <th>3</th>\n",
       "      <td>8.630</td>\n",
       "      <td>15.687</td>\n",
       "    </tr>\n",
       "    <tr>\n",
       "      <th>4</th>\n",
       "      <td>14.669</td>\n",
       "      <td>22.803</td>\n",
       "    </tr>\n",
       "  </tbody>\n",
       "</table>\n",
       "</div>"
      ],
      "text/plain": [
       "   Congruent  Incongruent\n",
       "0     12.079       19.278\n",
       "1     16.791       18.741\n",
       "2      9.564       21.214\n",
       "3      8.630       15.687\n",
       "4     14.669       22.803"
      ]
     },
     "execution_count": 3,
     "metadata": {},
     "output_type": "execute_result"
    }
   ],
   "source": [
    "# First we load the data and display it\n",
    "import pandas as pd \n",
    "import matplotlib.pyplot as plt\n",
    "from scipy import stats\n",
    "stroop_effect = pd.read_csv('stroopdata.csv')\n",
    "stroop_effect.head()"
   ]
  },
  {
   "cell_type": "code",
   "execution_count": 4,
   "metadata": {
    "collapsed": false
   },
   "outputs": [
    {
     "data": {
      "text/html": [
       "<div>\n",
       "<table border=\"1\" class=\"dataframe\">\n",
       "  <thead>\n",
       "    <tr style=\"text-align: right;\">\n",
       "      <th></th>\n",
       "      <th>Congruent</th>\n",
       "      <th>Incongruent</th>\n",
       "      <th>Differences</th>\n",
       "    </tr>\n",
       "  </thead>\n",
       "  <tbody>\n",
       "    <tr>\n",
       "      <th>0</th>\n",
       "      <td>12.079</td>\n",
       "      <td>19.278</td>\n",
       "      <td>-7.199</td>\n",
       "    </tr>\n",
       "    <tr>\n",
       "      <th>1</th>\n",
       "      <td>16.791</td>\n",
       "      <td>18.741</td>\n",
       "      <td>-1.950</td>\n",
       "    </tr>\n",
       "    <tr>\n",
       "      <th>2</th>\n",
       "      <td>9.564</td>\n",
       "      <td>21.214</td>\n",
       "      <td>-11.650</td>\n",
       "    </tr>\n",
       "    <tr>\n",
       "      <th>3</th>\n",
       "      <td>8.630</td>\n",
       "      <td>15.687</td>\n",
       "      <td>-7.057</td>\n",
       "    </tr>\n",
       "    <tr>\n",
       "      <th>4</th>\n",
       "      <td>14.669</td>\n",
       "      <td>22.803</td>\n",
       "      <td>-8.134</td>\n",
       "    </tr>\n",
       "  </tbody>\n",
       "</table>\n",
       "</div>"
      ],
      "text/plain": [
       "   Congruent  Incongruent  Differences\n",
       "0     12.079       19.278       -7.199\n",
       "1     16.791       18.741       -1.950\n",
       "2      9.564       21.214      -11.650\n",
       "3      8.630       15.687       -7.057\n",
       "4     14.669       22.803       -8.134"
      ]
     },
     "execution_count": 4,
     "metadata": {},
     "output_type": "execute_result"
    }
   ],
   "source": [
    "stroop_effect['Differences'] = stroop_effect['Congruent'] - stroop_effect['Incongruent']\n",
    "stroop_effect.head()"
   ]
  },
  {
   "cell_type": "code",
   "execution_count": 5,
   "metadata": {
    "collapsed": false
   },
   "outputs": [
    {
     "name": "stdout",
     "output_type": "stream",
     "text": [
      "The Congruent test results have 14.05 as a mean with a standard deviation of 3.56 for a total sample size of 24.00\n",
      "The Incongruent test results have 22.02 as a mean with a standard deviation of 4.80 for a total sample size of 24.00\n"
     ]
    }
   ],
   "source": [
    "# calculate and display average, std and n for both samples and their difference\n",
    "con_avg = stroop_effect['Congruent'].mean()\n",
    "con_med = stroop_effect['Congruent'].median()\n",
    "con_S = stroop_effect['Congruent'].std()\n",
    "con_n = stroop_effect['Congruent'].count()\n",
    "incon_avg = stroop_effect['Incongruent'].mean()\n",
    "incon_med = stroop_effect['Incongruent'].median()\n",
    "incon_S = stroop_effect['Incongruent'].std()\n",
    "incon_n = stroop_effect['Incongruent'].count()\n",
    "diff_avg = stroop_effect['Differences'].mean()\n",
    "diff_med = stroop_effect['Differences'].median()\n",
    "diff_S = stroop_effect['Differences'].std()\n",
    "diff_n = stroop_effect['Differences'].count()\n",
    "print(\"The Congruent test results have %.2f as a mean with a standard deviation of %.2f for a total sample size of %.2f\" %(con_avg, con_S, con_n))\n",
    "print(\"The Incongruent test results have %.2f as a mean with a standard deviation of %.2f for a total sample size of %.2f\" %(incon_avg, incon_S, incon_n))\n"
   ]
  },
  {
   "cell_type": "code",
   "execution_count": 6,
   "metadata": {
    "collapsed": false
   },
   "outputs": [
    {
     "data": {
      "text/html": [
       "<div>\n",
       "<table border=\"1\" class=\"dataframe\">\n",
       "  <thead>\n",
       "    <tr style=\"text-align: right;\">\n",
       "      <th></th>\n",
       "      <th>Congruent</th>\n",
       "      <th>Incongruent</th>\n",
       "      <th>Differences</th>\n",
       "    </tr>\n",
       "  </thead>\n",
       "  <tbody>\n",
       "    <tr>\n",
       "      <th>count</th>\n",
       "      <td>24.000000</td>\n",
       "      <td>24.000000</td>\n",
       "      <td>24.000000</td>\n",
       "    </tr>\n",
       "    <tr>\n",
       "      <th>mean</th>\n",
       "      <td>14.051125</td>\n",
       "      <td>22.015917</td>\n",
       "      <td>-7.964792</td>\n",
       "    </tr>\n",
       "    <tr>\n",
       "      <th>std</th>\n",
       "      <td>3.559358</td>\n",
       "      <td>4.797057</td>\n",
       "      <td>4.864827</td>\n",
       "    </tr>\n",
       "    <tr>\n",
       "      <th>min</th>\n",
       "      <td>8.630000</td>\n",
       "      <td>15.687000</td>\n",
       "      <td>-21.919000</td>\n",
       "    </tr>\n",
       "    <tr>\n",
       "      <th>25%</th>\n",
       "      <td>11.895250</td>\n",
       "      <td>18.716750</td>\n",
       "      <td>-10.258500</td>\n",
       "    </tr>\n",
       "    <tr>\n",
       "      <th>50%</th>\n",
       "      <td>14.356500</td>\n",
       "      <td>21.017500</td>\n",
       "      <td>-7.666500</td>\n",
       "    </tr>\n",
       "    <tr>\n",
       "      <th>75%</th>\n",
       "      <td>16.200750</td>\n",
       "      <td>24.051500</td>\n",
       "      <td>-3.645500</td>\n",
       "    </tr>\n",
       "    <tr>\n",
       "      <th>max</th>\n",
       "      <td>22.328000</td>\n",
       "      <td>35.255000</td>\n",
       "      <td>-1.950000</td>\n",
       "    </tr>\n",
       "  </tbody>\n",
       "</table>\n",
       "</div>"
      ],
      "text/plain": [
       "       Congruent  Incongruent  Differences\n",
       "count  24.000000    24.000000    24.000000\n",
       "mean   14.051125    22.015917    -7.964792\n",
       "std     3.559358     4.797057     4.864827\n",
       "min     8.630000    15.687000   -21.919000\n",
       "25%    11.895250    18.716750   -10.258500\n",
       "50%    14.356500    21.017500    -7.666500\n",
       "75%    16.200750    24.051500    -3.645500\n",
       "max    22.328000    35.255000    -1.950000"
      ]
     },
     "execution_count": 6,
     "metadata": {},
     "output_type": "execute_result"
    }
   ],
   "source": [
    "statstable = pd.DataFrame(\n",
    "    {'1. Congruent' : pd.Series([con_n, con_avg, con_med, con_S], index=['Sample size', 'Mean', 'Median', 'Std']),\n",
    "     '2. Incongruent' : pd.Series([incon_n, incon_avg, incon_med, incon_S], index=['Sample size', 'Mean', 'Median', 'Std']),\n",
    "     '3. Differences' : pd.Series([diff_n, diff_avg, diff_med, diff_S], index=['Sample size', 'Mean', 'Median', 'Std'])})\n",
    "\n",
    "# a bit later I found out you can just use the describe function.\n",
    "stroop_effect.describe()"
   ]
  },
  {
   "cell_type": "markdown",
   "metadata": {
    "collapsed": true
   },
   "source": [
    "<a id='question4'></a>"
   ]
  },
  {
   "cell_type": "markdown",
   "metadata": {},
   "source": [
    "## 4. Provide one or two visualizations that show the distribution of the sample data. Write one or two sentences noting what you observe about the plot or plots."
   ]
  },
  {
   "cell_type": "code",
   "execution_count": 7,
   "metadata": {
    "collapsed": false
   },
   "outputs": [
    {
     "name": "stdout",
     "output_type": "stream",
     "text": [
      "Populating the interactive namespace from numpy and matplotlib\n"
     ]
    },
    {
     "data": {
      "image/png": "[encoded data removed]",
      "text/plain": [
       "<matplotlib.figure.Figure at 0x7f36767c57b8>"
      ]
     },
     "metadata": {},
     "output_type": "display_data"
    },
    {
     "name": "stdout",
     "output_type": "stream",
     "text": [
      "What you see here is the probability distribution of total time per task. The darker region shows the overlap for the congruent and incongruent tasks.\n"
     ]
    }
   ],
   "source": [
    "# http://matplotlib.org/api/pyplot_api.html#matplotlib.pyplot.hist\n",
    "import matplotlib.mlab as mlab\n",
    "%pylab inline\n",
    "\n",
    "num_bins = 10\n",
    "plt.figure()\n",
    "\n",
    "# Display histogram and fit for the congruent task\n",
    "n, bins, patches = plt.hist(x=stroop_effect['Congruent'], bins=num_bins, range=(0,40), normed=True, label='Congruent', stacked=False, alpha=0.5)\n",
    "y = mlab.normpdf(bins, con_avg, con_S)\n",
    "plt.plot(bins, y, 'b--', label='Con fit')\n",
    "\n",
    "# Display histogram and fit for the incongruent task\n",
    "n, bins, patches = plt.hist(x=stroop_effect['Incongruent'], bins=num_bins, range=(0,40), normed=True, label='Incongruent', stacked=False, alpha=0.5)\n",
    "z = mlab.normpdf(bins, incon_avg, incon_S)\n",
    "plt.plot(bins, z, 'g--', label='Incon fit')\n",
    "\n",
    "#legend, labels and title\n",
    "plt.legend(prop={'size': 12})\n",
    "plt.xlabel('Time in seconds')\n",
    "plt.ylabel('Probability')\n",
    "plt.title('Histogram of stroop task times')\n",
    "\n",
    "plt.show()\n",
    "plt.close()\n",
    "print(\"What you see here is the probability distribution of total time per task. The darker region shows the overlap for the congruent and incongruent tasks.\")"
   ]
  },
  {
   "cell_type": "code",
   "execution_count": 8,
   "metadata": {
    "collapsed": false
   },
   "outputs": [
    {
     "data": {
      "image/png": "[encoded data removed]",
      "text/plain": [
       "<matplotlib.figure.Figure at 0x7f3672d4b278>"
      ]
     },
     "metadata": {},
     "output_type": "display_data"
    },
    {
     "name": "stdout",
     "output_type": "stream",
     "text": [
      "What you see here is the probability distribution of the difference of the paired samples. You can see that a lot of values are below zero meaning that the incongruent tasks in these samples took longer than the congruent task.\n"
     ]
    }
   ],
   "source": [
    "num_bins = 10\n",
    "plt.figure()\n",
    "\n",
    "# Display histogram and fit for the differences\n",
    "n, bins, patches = plt.hist(x=stroop_effect['Differences'], bins=num_bins, range=(-25,10), normed=True, label='Differences')\n",
    "d = mlab.normpdf(bins, diff_avg, diff_S)\n",
    "plt.plot(bins, d, 'r--', label='Diff fit')\n",
    "\n",
    "#legend, labels and title\n",
    "plt.legend(prop={'size': 12})\n",
    "plt.xlabel('Difference in seconds')\n",
    "plt.ylabel('Probability')\n",
    "plt.title('Histogram of difference in stroop task times')\n",
    "\n",
    "plt.show()\n",
    "print(\"What you see here is the probability distribution of the difference of the paired samples. You can see that a lot of values are below zero meaning that the incongruent tasks in these samples took longer than the congruent task.\")"
   ]
  },
  {
   "cell_type": "markdown",
   "metadata": {},
   "source": [
    "<a id='qq-plot'></a>"
   ]
  },
  {
   "cell_type": "code",
   "execution_count": 13,
   "metadata": {
    "collapsed": false
   },
   "outputs": [
    {
     "data": {
      "image/png": "[encoded data removed]",
      "text/plain": [
       "<matplotlib.figure.Figure at 0x7f36728b9a58>"
      ]
     },
     "metadata": {},
     "output_type": "display_data"
    }
   ],
   "source": [
    "# http://docs.scipy.org/doc/scipy-0.15.1/reference/generated/scipy.stats.probplot.html\n",
    "from scipy import stats\n",
    "plt.figure()\n",
    "con_prob = stats.probplot(stroop_effect['Congruent'], plot=plt)\n",
    "\n",
    "plt.show()"
   ]
  },
  {
   "cell_type": "code",
   "execution_count": 14,
   "metadata": {
    "collapsed": false
   },
   "outputs": [
    {
     "data": {
      "image/png": "[encoded data removed]",
      "text/plain": [
       "<matplotlib.figure.Figure at 0x7f36727ef9e8>"
      ]
     },
     "metadata": {},
     "output_type": "display_data"
    }
   ],
   "source": [
    "plt.figure()\n",
    "incon_prob = stats.probplot(stroop_effect['Incongruent'], plot=plt)\n",
    "\n",
    "plt.show()"
   ]
  },
  {
   "cell_type": "code",
   "execution_count": 15,
   "metadata": {
    "collapsed": false
   },
   "outputs": [
    {
     "data": {
      "image/png": "[encoded data removed]",
      "text/plain": [
       "<matplotlib.figure.Figure at 0x7f367290deb8>"
      ]
     },
     "metadata": {},
     "output_type": "display_data"
    }
   ],
   "source": [
    "plt.figure()\n",
    "incon_prob = stats.probplot(stroop_effect['Differences'], plot=plt)\n",
    "\n",
    "plt.show()"
   ]
  },
  {
   "cell_type": "markdown",
   "metadata": {},
   "source": [
    "<a id='question4'></a>"
   ]
  },
  {
   "cell_type": "markdown",
   "metadata": {},
   "source": [
    "## 5. Now, perform the statistical test and report your results. What is your confidence level and your critical statistic value? Do you reject the null hypothesis or fail to reject it? Come to a conclusion in terms of the experiment task. Did the results match up with your expectations?"
   ]
  },
  {
   "cell_type": "code",
   "execution_count": 18,
   "metadata": {
    "collapsed": false
   },
   "outputs": [
    {
     "name": "stdout",
     "output_type": "stream",
     "text": [
      "t(23) = -8.0207, p < 0.001, One-tailed negative direction\n",
      "Critical statistic value is -2.50\n",
      "Confidence interval on the mean difference\n",
      "99% CI = (-10.7522,-5.1774)\n"
     ]
    }
   ],
   "source": [
    "t_value = (con_avg - incon_avg) / (diff_S / math.sqrt(24))\n",
    "df = diff_n - 1\n",
    "t_critical = -2.5\n",
    "CI_lower = diff_avg - 2.807*(diff_S/math.sqrt(24))\n",
    "CI_upper = diff_avg + 2.807*(diff_S/math.sqrt(24))\n",
    "cohens_d = diff_avg / diff_S\n",
    "print(\"t(%s) = %.4f, p < 0.001, One-tailed negative direction\" %(df, t_value))\n",
    "print(\"Critical statistic value is %.2f\" %(t_critical))\n",
    "print(\"Confidence interval on the mean difference\")\n",
    "print(\"99%% CI = (%.4f,%.4f)\" %(CI_lower, CI_upper))"
   ]
  },
  {
   "cell_type": "markdown",
   "metadata": {},
   "source": [
    "We choose an alpha level of 0.01 to which is equal the t critical value -2.5 relates for the one-tailed(negative direction) test. Everything in the critical area(t-stat < -2.5) has a probability of p < 0.01. In this case we have a t-stat of -8.0207 which is way below the t-critical value and has a probability of p < 0.001. \n",
    "\n",
    "Based on the above results we reject the null and we can say that there is a statiscally significant effect in the negative direction. The incongruent task takes more time than the congruent task. These results are in line with what I expected."
   ]
  },
  {
   "cell_type": "markdown",
   "metadata": {},
   "source": [
    "<a id='question6'></a>"
   ]
  },
  {
   "cell_type": "markdown",
   "metadata": {},
   "source": [
    "## 6. Optional: What do you think is responsible for the effects observed? Can you think of an alternative or similar task that would result in a similar effect? Some research about the problem will be helpful for thinking about these two questions!"
   ]
  },
  {
   "cell_type": "markdown",
   "metadata": {
    "collapsed": true
   },
   "source": [
    "Reading a word goes faster, more automatic, than identifying a color. You have to suppress that automatic urge to say the color you read.\n",
    "\n",
    "Person A: <i>\"Complete the Sentence: ilk, ilk, ilk, a cow drinks ...?\"</i>  \n",
    "Person B: <i>\"Milk!\"</i>  \n",
    "Person A: <i>\"Nope, Water\"</i>  \n",
    "\n",
    "It rhymes and you associate cow with milk. This irrelevant for the statement of what a cow drinks but still you can trick many people this way.  \n",
    "Person A: <i>\"Ork, ork, ork, you eat soop with a ...?\"</i>  \n",
    "...  \n",
    "\n",
    "Other than that I didn't know of any other similar effects. A similar effects seems to be Eriksen Flanker Task.\n"
   ]
  },
  {
   "cell_type": "markdown",
   "metadata": {},
   "source": [
    "### Sources\n",
    "http://www.statisticshowto.com/when-to-use-a-t-score-vs-z-score/ \n",
    "http://pandas.pydata.org/  \n",
    "http://docs.scipy.org/doc/scipy-0.15.1/reference/generated/scipy.stats.probplot.html\n",
    "http://matplotlib.org/api/pyplot_api.html#matplotlib.pyplot.hist  \n",
    "https://en.wikipedia.org/wiki/Eriksen_flanker_task  "
   ]
  }
 ],
 "metadata": {
  "kernelspec": {
   "display_name": "Python 3",
   "language": "python",
   "name": "python3"
  },
  "language_info": {
   "codemirror_mode": {
    "name": "ipython",
    "version": 3
   },
   "file_extension": ".py",
   "mimetype": "text/x-python",
   "name": "python",
   "nbconvert_exporter": "python",
   "pygments_lexer": "ipython3",
   "version": "3.4.3"
  }
 },
 "nbformat": 4,
 "nbformat_minor": 0
}
