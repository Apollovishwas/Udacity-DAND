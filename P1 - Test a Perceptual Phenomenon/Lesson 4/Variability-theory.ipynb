{
 "cells": [
  {
   "cell_type": "code",
   "execution_count": null,
   "metadata": {
    "collapsed": true
   },
   "outputs": [],
   "source": []
  },
  {
   "cell_type": "code",
   "execution_count": 2,
   "metadata": {
    "collapsed": false
   },
   "outputs": [
    {
     "data": {
      "text/html": [
       "<div>\n",
       "<table border=\"1\" class=\"dataframe\">\n",
       "  <thead>\n",
       "    <tr style=\"text-align: right;\">\n",
       "      <th></th>\n",
       "      <th>value</th>\n",
       "    </tr>\n",
       "  </thead>\n",
       "  <tbody>\n",
       "    <tr>\n",
       "      <th>0</th>\n",
       "      <td>33219</td>\n",
       "    </tr>\n",
       "    <tr>\n",
       "      <th>1</th>\n",
       "      <td>36254</td>\n",
       "    </tr>\n",
       "    <tr>\n",
       "      <th>2</th>\n",
       "      <td>38801</td>\n",
       "    </tr>\n",
       "    <tr>\n",
       "      <th>3</th>\n",
       "      <td>46335</td>\n",
       "    </tr>\n",
       "    <tr>\n",
       "      <th>4</th>\n",
       "      <td>46840</td>\n",
       "    </tr>\n",
       "    <tr>\n",
       "      <th>5</th>\n",
       "      <td>47596</td>\n",
       "    </tr>\n",
       "    <tr>\n",
       "      <th>6</th>\n",
       "      <td>55130</td>\n",
       "    </tr>\n",
       "    <tr>\n",
       "      <th>7</th>\n",
       "      <td>56863</td>\n",
       "    </tr>\n",
       "    <tr>\n",
       "      <th>8</th>\n",
       "      <td>78070</td>\n",
       "    </tr>\n",
       "    <tr>\n",
       "      <th>9</th>\n",
       "      <td>88830</td>\n",
       "    </tr>\n",
       "  </tbody>\n",
       "</table>\n",
       "</div>"
      ],
      "text/plain": [
       "   value\n",
       "0  33219\n",
       "1  36254\n",
       "2  38801\n",
       "3  46335\n",
       "4  46840\n",
       "5  47596\n",
       "6  55130\n",
       "7  56863\n",
       "8  78070\n",
       "9  88830"
      ]
     },
     "execution_count": 2,
     "metadata": {},
     "output_type": "execute_result"
    }
   ],
   "source": [
    "import pandas as pd\n",
    "\n",
    "salaries = pd.read_csv('salaries-population.csv')\n",
    "salaries"
   ]
  },
  {
   "cell_type": "code",
   "execution_count": 14,
   "metadata": {
    "collapsed": false
   },
   "outputs": [
    {
     "data": {
      "text/plain": [
       "52793.8"
      ]
     },
     "execution_count": 14,
     "metadata": {},
     "output_type": "execute_result"
    }
   ],
   "source": [
    "salaries['value'].mean()"
   ]
  },
  {
   "cell_type": "code",
   "execution_count": 15,
   "metadata": {
    "collapsed": false
   },
   "outputs": [
    {
     "data": {
      "text/html": [
       "<div>\n",
       "<table border=\"1\" class=\"dataframe\">\n",
       "  <thead>\n",
       "    <tr style=\"text-align: right;\">\n",
       "      <th></th>\n",
       "      <th>value</th>\n",
       "      <th>deviation from mean</th>\n",
       "    </tr>\n",
       "  </thead>\n",
       "  <tbody>\n",
       "    <tr>\n",
       "      <th>0</th>\n",
       "      <td>33219</td>\n",
       "      <td>-19574.80</td>\n",
       "    </tr>\n",
       "    <tr>\n",
       "      <th>1</th>\n",
       "      <td>36254</td>\n",
       "      <td>-16539.80</td>\n",
       "    </tr>\n",
       "    <tr>\n",
       "      <th>2</th>\n",
       "      <td>38801</td>\n",
       "      <td>-13992.80</td>\n",
       "    </tr>\n",
       "    <tr>\n",
       "      <th>3</th>\n",
       "      <td>46335</td>\n",
       "      <td>-6458.80</td>\n",
       "    </tr>\n",
       "    <tr>\n",
       "      <th>4</th>\n",
       "      <td>46840</td>\n",
       "      <td>-5953.80</td>\n",
       "    </tr>\n",
       "    <tr>\n",
       "      <th>5</th>\n",
       "      <td>47596</td>\n",
       "      <td>-5197.80</td>\n",
       "    </tr>\n",
       "    <tr>\n",
       "      <th>6</th>\n",
       "      <td>55130</td>\n",
       "      <td>2336.20</td>\n",
       "    </tr>\n",
       "    <tr>\n",
       "      <th>7</th>\n",
       "      <td>56863</td>\n",
       "      <td>4069.20</td>\n",
       "    </tr>\n",
       "    <tr>\n",
       "      <th>8</th>\n",
       "      <td>78070</td>\n",
       "      <td>25276.20</td>\n",
       "    </tr>\n",
       "    <tr>\n",
       "      <th>9</th>\n",
       "      <td>88830</td>\n",
       "      <td>36036.20</td>\n",
       "    </tr>\n",
       "  </tbody>\n",
       "</table>\n",
       "</div>"
      ],
      "text/plain": [
       "   value  deviation from mean\n",
       "0  33219            -19574.80\n",
       "1  36254            -16539.80\n",
       "2  38801            -13992.80\n",
       "3  46335             -6458.80\n",
       "4  46840             -5953.80\n",
       "5  47596             -5197.80\n",
       "6  55130              2336.20\n",
       "7  56863              4069.20\n",
       "8  78070             25276.20\n",
       "9  88830             36036.20"
      ]
     },
     "execution_count": 15,
     "metadata": {},
     "output_type": "execute_result"
    }
   ],
   "source": [
    "salaries['deviation from mean'] = (salaries['value'] - salaries['value'].mean())\n",
    "salaries"
   ]
  },
  {
   "cell_type": "code",
   "execution_count": 16,
   "metadata": {
    "collapsed": false
   },
   "outputs": [
    {
     "data": {
      "text/plain": [
       "-2.9103830456733705e-12"
      ]
     },
     "execution_count": 16,
     "metadata": {},
     "output_type": "execute_result"
    }
   ],
   "source": [
    "salaries['deviation from mean'].mean()"
   ]
  },
  {
   "cell_type": "code",
   "execution_count": 17,
   "metadata": {
    "collapsed": false
   },
   "outputs": [
    {
     "data": {
      "text/html": [
       "<div>\n",
       "<table border=\"1\" class=\"dataframe\">\n",
       "  <thead>\n",
       "    <tr style=\"text-align: right;\">\n",
       "      <th></th>\n",
       "      <th>value</th>\n",
       "      <th>deviation from mean</th>\n",
       "      <th>absolute deviations</th>\n",
       "    </tr>\n",
       "  </thead>\n",
       "  <tbody>\n",
       "    <tr>\n",
       "      <th>0</th>\n",
       "      <td>33219</td>\n",
       "      <td>-19574.80</td>\n",
       "      <td>19574.80</td>\n",
       "    </tr>\n",
       "    <tr>\n",
       "      <th>1</th>\n",
       "      <td>36254</td>\n",
       "      <td>-16539.80</td>\n",
       "      <td>16539.80</td>\n",
       "    </tr>\n",
       "    <tr>\n",
       "      <th>2</th>\n",
       "      <td>38801</td>\n",
       "      <td>-13992.80</td>\n",
       "      <td>13992.80</td>\n",
       "    </tr>\n",
       "    <tr>\n",
       "      <th>3</th>\n",
       "      <td>46335</td>\n",
       "      <td>-6458.80</td>\n",
       "      <td>6458.80</td>\n",
       "    </tr>\n",
       "    <tr>\n",
       "      <th>4</th>\n",
       "      <td>46840</td>\n",
       "      <td>-5953.80</td>\n",
       "      <td>5953.80</td>\n",
       "    </tr>\n",
       "    <tr>\n",
       "      <th>5</th>\n",
       "      <td>47596</td>\n",
       "      <td>-5197.80</td>\n",
       "      <td>5197.80</td>\n",
       "    </tr>\n",
       "    <tr>\n",
       "      <th>6</th>\n",
       "      <td>55130</td>\n",
       "      <td>2336.20</td>\n",
       "      <td>2336.20</td>\n",
       "    </tr>\n",
       "    <tr>\n",
       "      <th>7</th>\n",
       "      <td>56863</td>\n",
       "      <td>4069.20</td>\n",
       "      <td>4069.20</td>\n",
       "    </tr>\n",
       "    <tr>\n",
       "      <th>8</th>\n",
       "      <td>78070</td>\n",
       "      <td>25276.20</td>\n",
       "      <td>25276.20</td>\n",
       "    </tr>\n",
       "    <tr>\n",
       "      <th>9</th>\n",
       "      <td>88830</td>\n",
       "      <td>36036.20</td>\n",
       "      <td>36036.20</td>\n",
       "    </tr>\n",
       "  </tbody>\n",
       "</table>\n",
       "</div>"
      ],
      "text/plain": [
       "   value  deviation from mean  absolute deviations\n",
       "0  33219            -19574.80             19574.80\n",
       "1  36254            -16539.80             16539.80\n",
       "2  38801            -13992.80             13992.80\n",
       "3  46335             -6458.80              6458.80\n",
       "4  46840             -5953.80              5953.80\n",
       "5  47596             -5197.80              5197.80\n",
       "6  55130              2336.20              2336.20\n",
       "7  56863              4069.20              4069.20\n",
       "8  78070             25276.20             25276.20\n",
       "9  88830             36036.20             36036.20"
      ]
     },
     "execution_count": 17,
     "metadata": {},
     "output_type": "execute_result"
    }
   ],
   "source": [
    "salaries['absolute deviations'] = abs(salaries['deviation from mean'])\n",
    "salaries"
   ]
  },
  {
   "cell_type": "code",
   "execution_count": 18,
   "metadata": {
    "collapsed": false
   },
   "outputs": [
    {
     "data": {
      "text/plain": [
       "13543.560000000001"
      ]
     },
     "execution_count": 18,
     "metadata": {},
     "output_type": "execute_result"
    }
   ],
   "source": [
    "salaries['absolute deviations'].mean()"
   ]
  },
  {
   "cell_type": "code",
   "execution_count": 19,
   "metadata": {
    "collapsed": false
   },
   "outputs": [
    {
     "data": {
      "text/html": [
       "<div>\n",
       "<table border=\"1\" class=\"dataframe\">\n",
       "  <thead>\n",
       "    <tr style=\"text-align: right;\">\n",
       "      <th></th>\n",
       "      <th>value</th>\n",
       "      <th>deviation from mean</th>\n",
       "      <th>absolute deviations</th>\n",
       "      <th>squared deviations</th>\n",
       "    </tr>\n",
       "  </thead>\n",
       "  <tbody>\n",
       "    <tr>\n",
       "      <th>0</th>\n",
       "      <td>33219</td>\n",
       "      <td>-19574.80</td>\n",
       "      <td>19574.80</td>\n",
       "      <td>383172795.04</td>\n",
       "    </tr>\n",
       "    <tr>\n",
       "      <th>1</th>\n",
       "      <td>36254</td>\n",
       "      <td>-16539.80</td>\n",
       "      <td>16539.80</td>\n",
       "      <td>273564984.04</td>\n",
       "    </tr>\n",
       "    <tr>\n",
       "      <th>2</th>\n",
       "      <td>38801</td>\n",
       "      <td>-13992.80</td>\n",
       "      <td>13992.80</td>\n",
       "      <td>195798451.84</td>\n",
       "    </tr>\n",
       "    <tr>\n",
       "      <th>3</th>\n",
       "      <td>46335</td>\n",
       "      <td>-6458.80</td>\n",
       "      <td>6458.80</td>\n",
       "      <td>41716097.44</td>\n",
       "    </tr>\n",
       "    <tr>\n",
       "      <th>4</th>\n",
       "      <td>46840</td>\n",
       "      <td>-5953.80</td>\n",
       "      <td>5953.80</td>\n",
       "      <td>35447734.44</td>\n",
       "    </tr>\n",
       "    <tr>\n",
       "      <th>5</th>\n",
       "      <td>47596</td>\n",
       "      <td>-5197.80</td>\n",
       "      <td>5197.80</td>\n",
       "      <td>27017124.84</td>\n",
       "    </tr>\n",
       "    <tr>\n",
       "      <th>6</th>\n",
       "      <td>55130</td>\n",
       "      <td>2336.20</td>\n",
       "      <td>2336.20</td>\n",
       "      <td>5457830.44</td>\n",
       "    </tr>\n",
       "    <tr>\n",
       "      <th>7</th>\n",
       "      <td>56863</td>\n",
       "      <td>4069.20</td>\n",
       "      <td>4069.20</td>\n",
       "      <td>16558388.64</td>\n",
       "    </tr>\n",
       "    <tr>\n",
       "      <th>8</th>\n",
       "      <td>78070</td>\n",
       "      <td>25276.20</td>\n",
       "      <td>25276.20</td>\n",
       "      <td>638886286.44</td>\n",
       "    </tr>\n",
       "    <tr>\n",
       "      <th>9</th>\n",
       "      <td>88830</td>\n",
       "      <td>36036.20</td>\n",
       "      <td>36036.20</td>\n",
       "      <td>1298607710.44</td>\n",
       "    </tr>\n",
       "  </tbody>\n",
       "</table>\n",
       "</div>"
      ],
      "text/plain": [
       "   value  deviation from mean  absolute deviations  squared deviations\n",
       "0  33219            -19574.80             19574.80        383172795.04\n",
       "1  36254            -16539.80             16539.80        273564984.04\n",
       "2  38801            -13992.80             13992.80        195798451.84\n",
       "3  46335             -6458.80              6458.80         41716097.44\n",
       "4  46840             -5953.80              5953.80         35447734.44\n",
       "5  47596             -5197.80              5197.80         27017124.84\n",
       "6  55130              2336.20              2336.20          5457830.44\n",
       "7  56863              4069.20              4069.20         16558388.64\n",
       "8  78070             25276.20             25276.20        638886286.44\n",
       "9  88830             36036.20             36036.20       1298607710.44"
      ]
     },
     "execution_count": 19,
     "metadata": {},
     "output_type": "execute_result"
    }
   ],
   "source": [
    "pd.set_option('display.float_format', lambda x: '%.2f' % x)\n",
    "salaries['squared deviations'] = salaries['deviation from mean'] ** 2\n",
    "salaries"
   ]
  },
  {
   "cell_type": "code",
   "execution_count": 20,
   "metadata": {
    "collapsed": false
   },
   "outputs": [
    {
     "data": {
      "text/plain": [
       "291622740.36"
      ]
     },
     "execution_count": 20,
     "metadata": {},
     "output_type": "execute_result"
    }
   ],
   "source": [
    "variance = salaries['squared deviations'].mean()\n",
    "variance"
   ]
  },
  {
   "cell_type": "code",
   "execution_count": 21,
   "metadata": {
    "collapsed": false
   },
   "outputs": [
    {
     "data": {
      "text/plain": [
       "17076.965197598784"
      ]
     },
     "execution_count": 21,
     "metadata": {},
     "output_type": "execute_result"
    }
   ],
   "source": [
    "import math\n",
    "math.sqrt(variance)"
   ]
  },
  {
   "cell_type": "markdown",
   "metadata": {},
   "source": [
    "http://stats.stackexchange.com/questions/118/why-square-the-difference-instead-of-taking-the-absolute-value-in-standard-devia\n",
    "\n",
    "https://www.quora.com/Why-do-we-square-instead-of-using-the-absolute-value-when-calculating-variance-and-standard-deviation\n"
   ]
  },
  {
   "cell_type": "code",
   "execution_count": 22,
   "metadata": {
    "collapsed": false
   },
   "outputs": [
    {
     "data": {
      "text/html": [
       "<div>\n",
       "<table border=\"1\" class=\"dataframe\">\n",
       "  <thead>\n",
       "    <tr style=\"text-align: right;\">\n",
       "      <th></th>\n",
       "      <th>sample</th>\n",
       "    </tr>\n",
       "  </thead>\n",
       "  <tbody>\n",
       "    <tr>\n",
       "      <th>0</th>\n",
       "      <td>38946</td>\n",
       "    </tr>\n",
       "    <tr>\n",
       "      <th>1</th>\n",
       "      <td>43420</td>\n",
       "    </tr>\n",
       "    <tr>\n",
       "      <th>2</th>\n",
       "      <td>49191</td>\n",
       "    </tr>\n",
       "    <tr>\n",
       "      <th>3</th>\n",
       "      <td>50430</td>\n",
       "    </tr>\n",
       "    <tr>\n",
       "      <th>4</th>\n",
       "      <td>50557</td>\n",
       "    </tr>\n",
       "    <tr>\n",
       "      <th>5</th>\n",
       "      <td>52580</td>\n",
       "    </tr>\n",
       "    <tr>\n",
       "      <th>6</th>\n",
       "      <td>53595</td>\n",
       "    </tr>\n",
       "    <tr>\n",
       "      <th>7</th>\n",
       "      <td>54135</td>\n",
       "    </tr>\n",
       "    <tr>\n",
       "      <th>8</th>\n",
       "      <td>60181</td>\n",
       "    </tr>\n",
       "    <tr>\n",
       "      <th>9</th>\n",
       "      <td>62076</td>\n",
       "    </tr>\n",
       "  </tbody>\n",
       "</table>\n",
       "</div>"
      ],
      "text/plain": [
       "   sample\n",
       "0   38946\n",
       "1   43420\n",
       "2   49191\n",
       "3   50430\n",
       "4   50557\n",
       "5   52580\n",
       "6   53595\n",
       "7   54135\n",
       "8   60181\n",
       "9   62076"
      ]
     },
     "execution_count": 22,
     "metadata": {},
     "output_type": "execute_result"
    }
   ],
   "source": [
    "salaries_sample = pd.read_csv('salaries-sample.csv')\n",
    "salaries_sample"
   ]
  },
  {
   "cell_type": "code",
   "execution_count": 55,
   "metadata": {
    "collapsed": false
   },
   "outputs": [
    {
     "data": {
      "text/plain": [
       "6557.163265467774"
      ]
     },
     "execution_count": 55,
     "metadata": {},
     "output_type": "execute_result"
    }
   ],
   "source": [
    "salaries_sample['sample'].std(ddof=0)"
   ]
  },
  {
   "cell_type": "code",
   "execution_count": 28,
   "metadata": {
    "collapsed": false
   },
   "outputs": [
    {
     "data": {
      "text/html": [
       "<div>\n",
       "<table border=\"1\" class=\"dataframe\">\n",
       "  <thead>\n",
       "    <tr style=\"text-align: right;\">\n",
       "      <th></th>\n",
       "      <th>salary</th>\n",
       "      <th>2. deviation (x-xbar)</th>\n",
       "      <th>3. squared deviation (x-xbar)^2</th>\n",
       "      <th>Unnamed: 3</th>\n",
       "      <th>1. In this cell, find the average of cells a2 through a101.</th>\n",
       "      <th>4. In this cell, find the average of cells c2 through c101.</th>\n",
       "      <th>5. Finally, take the square root of the calculation described in cell f1.</th>\n",
       "    </tr>\n",
       "  </thead>\n",
       "  <tbody>\n",
       "    <tr>\n",
       "      <th>0</th>\n",
       "      <td>59147.29</td>\n",
       "      <td>8560.93</td>\n",
       "      <td>73289465.96</td>\n",
       "      <td>nan</td>\n",
       "      <td>50586.36</td>\n",
       "      <td>113570640.18</td>\n",
       "      <td>10656.95</td>\n",
       "    </tr>\n",
       "    <tr>\n",
       "      <th>1</th>\n",
       "      <td>61379.14</td>\n",
       "      <td>10792.78</td>\n",
       "      <td>116484028.90</td>\n",
       "      <td>nan</td>\n",
       "      <td>nan</td>\n",
       "      <td>nan</td>\n",
       "      <td>nan</td>\n",
       "    </tr>\n",
       "    <tr>\n",
       "      <th>2</th>\n",
       "      <td>55683.19</td>\n",
       "      <td>5096.83</td>\n",
       "      <td>25977642.41</td>\n",
       "      <td>nan</td>\n",
       "      <td>nan</td>\n",
       "      <td>nan</td>\n",
       "      <td>nan</td>\n",
       "    </tr>\n",
       "    <tr>\n",
       "      <th>3</th>\n",
       "      <td>56272.76</td>\n",
       "      <td>5686.40</td>\n",
       "      <td>32335107.43</td>\n",
       "      <td>nan</td>\n",
       "      <td>nan</td>\n",
       "      <td>nan</td>\n",
       "      <td>nan</td>\n",
       "    </tr>\n",
       "    <tr>\n",
       "      <th>4</th>\n",
       "      <td>52055.88</td>\n",
       "      <td>1469.52</td>\n",
       "      <td>2159479.33</td>\n",
       "      <td>nan</td>\n",
       "      <td>nan</td>\n",
       "      <td>nan</td>\n",
       "      <td>nan</td>\n",
       "    </tr>\n",
       "  </tbody>\n",
       "</table>\n",
       "</div>"
      ],
      "text/plain": [
       "    salary  2. deviation (x-xbar)  3. squared deviation (x-xbar)^2  \\\n",
       "0 59147.29                8560.93                      73289465.96   \n",
       "1 61379.14               10792.78                     116484028.90   \n",
       "2 55683.19                5096.83                      25977642.41   \n",
       "3 56272.76                5686.40                      32335107.43   \n",
       "4 52055.88                1469.52                       2159479.33   \n",
       "\n",
       "   Unnamed: 3  1. In this cell, find the average of cells a2 through a101.  \\\n",
       "0         nan                                           50586.36             \n",
       "1         nan                                                nan             \n",
       "2         nan                                                nan             \n",
       "3         nan                                                nan             \n",
       "4         nan                                                nan             \n",
       "\n",
       "   4. In this cell, find the average of cells c2 through c101.  \\\n",
       "0                                       113570640.18             \n",
       "1                                                nan             \n",
       "2                                                nan             \n",
       "3                                                nan             \n",
       "4                                                nan             \n",
       "\n",
       "   5. Finally, take the square root of the calculation described in cell f1.  \n",
       "0                                           10656.95                          \n",
       "1                                                nan                          \n",
       "2                                                nan                          \n",
       "3                                                nan                          \n",
       "4                                                nan                          "
      ]
     },
     "execution_count": 28,
     "metadata": {},
     "output_type": "execute_result"
    }
   ],
   "source": [
    "sample_sn_salary = pd.read_csv('Sample Social Networkers Salary n=100 - Lesson 4 - Sheet1.csv')\n",
    "sample_sn_salary_mean = sample_sn_salary['salary'].mean()\n",
    "sample_sn_salary['2. deviation (x-xbar)'] = (sample_sn_salary['salary'] - sample_sn_salary_mean)\n",
    "sample_sn_salary['3. squared deviation (x-xbar)^2'] = sample_sn_salary['2. deviation (x-xbar)'] ** 2\n",
    "sample_sn_salary['1. In this cell, find the average of cells a2 through a101.'][0] = sample_sn_salary_mean\n",
    "sample_sn_salary['4. In this cell, find the average of cells c2 through c101.'][0] = sample_sn_salary['3. squared deviation (x-xbar)^2'].mean()\n",
    "sample_sn_salary['5. Finally, take the square root of the calculation described in cell f1.'][0] = math.sqrt(sample_sn_salary['4. In this cell, find the average of cells c2 through c101.'][0])\n",
    "sample_sn_salary.head()"
   ]
  },
  {
   "cell_type": "code",
   "execution_count": 29,
   "metadata": {
    "collapsed": false
   },
   "outputs": [
    {
     "data": {
      "text/plain": [
       "22.77777777777778"
      ]
     },
     "execution_count": 29,
     "metadata": {},
     "output_type": "execute_result"
    }
   ],
   "source": [
    "205/9"
   ]
  },
  {
   "cell_type": "code",
   "execution_count": 39,
   "metadata": {
    "collapsed": false
   },
   "outputs": [
    {
     "data": {
      "text/html": [
       "<div>\n",
       "<table border=\"1\" class=\"dataframe\">\n",
       "  <thead>\n",
       "    <tr style=\"text-align: right;\">\n",
       "      <th></th>\n",
       "      <th>sample</th>\n",
       "    </tr>\n",
       "  </thead>\n",
       "  <tbody>\n",
       "    <tr>\n",
       "      <th>0</th>\n",
       "      <td>18</td>\n",
       "    </tr>\n",
       "    <tr>\n",
       "      <th>1</th>\n",
       "      <td>20</td>\n",
       "    </tr>\n",
       "    <tr>\n",
       "      <th>2</th>\n",
       "      <td>23</td>\n",
       "    </tr>\n",
       "    <tr>\n",
       "      <th>3</th>\n",
       "      <td>18</td>\n",
       "    </tr>\n",
       "    <tr>\n",
       "      <th>4</th>\n",
       "      <td>21</td>\n",
       "    </tr>\n",
       "    <tr>\n",
       "      <th>5</th>\n",
       "      <td>17</td>\n",
       "    </tr>\n",
       "    <tr>\n",
       "      <th>6</th>\n",
       "      <td>22</td>\n",
       "    </tr>\n",
       "    <tr>\n",
       "      <th>7</th>\n",
       "      <td>21</td>\n",
       "    </tr>\n",
       "    <tr>\n",
       "      <th>8</th>\n",
       "      <td>15</td>\n",
       "    </tr>\n",
       "  </tbody>\n",
       "</table>\n",
       "</div>"
      ],
      "text/plain": [
       "   sample\n",
       "0      18\n",
       "1      20\n",
       "2      23\n",
       "3      18\n",
       "4      21\n",
       "5      17\n",
       "6      22\n",
       "7      21\n",
       "8      15"
      ]
     },
     "execution_count": 39,
     "metadata": {},
     "output_type": "execute_result"
    }
   ],
   "source": [
    "sample_sd = pd.DataFrame({'sample' : [18,20,23,18,21,17,22,21,15]})\n",
    "sample_sd"
   ]
  },
  {
   "cell_type": "code",
   "execution_count": 42,
   "metadata": {
    "collapsed": false
   },
   "outputs": [
    {
     "data": {
      "text/plain": [
       "2.454524670486058"
      ]
     },
     "execution_count": 42,
     "metadata": {},
     "output_type": "execute_result"
    }
   ],
   "source": [
    "sample_sd['sample'].std(ddof=0)"
   ]
  },
  {
   "cell_type": "code",
   "execution_count": 43,
   "metadata": {
    "collapsed": false
   },
   "outputs": [
    {
     "data": {
      "text/plain": [
       "175"
      ]
     },
     "execution_count": 43,
     "metadata": {},
     "output_type": "execute_result"
    }
   ],
   "source": [
    "sample_sd['sample'].sum()"
   ]
  },
  {
   "cell_type": "code",
   "execution_count": null,
   "metadata": {
    "collapsed": true
   },
   "outputs": [],
   "source": []
  }
 ],
 "metadata": {
  "kernelspec": {
   "display_name": "Python 3",
   "language": "python",
   "name": "python3"
  },
  "language_info": {
   "codemirror_mode": {
    "name": "ipython",
    "version": 3
   },
   "file_extension": ".py",
   "mimetype": "text/x-python",
   "name": "python",
   "nbconvert_exporter": "python",
   "pygments_lexer": "ipython3",
   "version": "3.4.3"
  }
 },
 "nbformat": 4,
 "nbformat_minor": 0
}
