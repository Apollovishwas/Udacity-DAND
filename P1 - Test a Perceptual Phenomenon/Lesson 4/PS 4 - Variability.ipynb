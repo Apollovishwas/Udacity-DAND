{
 "cells": [
  {
   "cell_type": "markdown",
   "metadata": {},
   "source": [
    "<ul>\n",
    "  <li><a href=#question1>1. Udacians' Facebook Friends (Mean)</a></li>\n",
    "  <li><a href=#question2>2. Udacians' Facebook Friends (Avg. Dev)</a></li>\n",
    "  <li><a href=#question3>3. Udacians' Facebook Friends (SS)</a></li>\n",
    "  <li><a href=#question4>4. Udacians' Facebook Friends (Variance)</a></li>\n",
    "  <li><a href=#question5>5. Udacians' Facebook Friends (Std Dev)</a></li>\n",
    "  <li><a href=#question6>6. Udacians' Facebook Friends (mean +/- std dev)</a></li>\n",
    "  <li><a href=#question7>7. Udacians' Facebook Friends (proportion)</a></li>\n",
    "  <li><a href=#question8>8. Udacians' Facebook Friends (sample sd)</a></li>\n",
    "  <li><a href=#question13>13. BBC Sample Scores (Std. Dev.)</a></li>\n",
    "  <li><a href=#question13>14. BBC Sample Scores (Variability)</a></li>\n",
    "</ul>"
   ]
  },
  {
   "cell_type": "markdown",
   "metadata": {},
   "source": [
    "<a id='question1'></a>"
   ]
  },
  {
   "cell_type": "markdown",
   "metadata": {},
   "source": [
    "### 1. Udacians' Facebook Friends(Mean)\n",
    "\n",
    "What is the mean number of Facebook friends?"
   ]
  },
  {
   "cell_type": "code",
   "execution_count": 32,
   "metadata": {
    "collapsed": false
   },
   "outputs": [
    {
     "data": {
      "text/plain": [
       "584.7407407407408"
      ]
     },
     "execution_count": 32,
     "metadata": {},
     "output_type": "execute_result"
    }
   ],
   "source": [
    "import pandas as pd\n",
    "\n",
    "fbfriends = pd.read_csv('../Lesson 3/How many Facebook friends do Udacians have_ - Lesson 3 - Sheet1.csv')\n",
    "fbf_mean = fbfriends['How many Facebook friends do you have?'].mean()\n",
    "fbf_mean"
   ]
  },
  {
   "cell_type": "markdown",
   "metadata": {},
   "source": [
    "<a id='question2'></a>"
   ]
  },
  {
   "cell_type": "markdown",
   "metadata": {},
   "source": [
    "### 2. Udacians' Facebook Friends(Avg. Dev)\n",
    "\n",
    "Calculate the deviation from the mean for each value (in column B). What is the average deviation?"
   ]
  },
  {
   "cell_type": "code",
   "execution_count": 17,
   "metadata": {
    "collapsed": false
   },
   "outputs": [
    {
     "data": {
      "text/html": [
       "<div>\n",
       "<table border=\"1\" class=\"dataframe\">\n",
       "  <thead>\n",
       "    <tr style=\"text-align: right;\">\n",
       "      <th></th>\n",
       "      <th>Timestamp</th>\n",
       "      <th>How many Facebook friends do you have?</th>\n",
       "      <th>Dev from mean</th>\n",
       "      <th>Squared deviations</th>\n",
       "    </tr>\n",
       "  </thead>\n",
       "  <tbody>\n",
       "    <tr>\n",
       "      <th>0</th>\n",
       "      <td>1/2/2013 15:19:35</td>\n",
       "      <td>589</td>\n",
       "      <td>4.259259</td>\n",
       "      <td>18.141289</td>\n",
       "    </tr>\n",
       "    <tr>\n",
       "      <th>1</th>\n",
       "      <td>1/2/2013 15:19:48</td>\n",
       "      <td>241</td>\n",
       "      <td>-343.740741</td>\n",
       "      <td>118157.696845</td>\n",
       "    </tr>\n",
       "    <tr>\n",
       "      <th>2</th>\n",
       "      <td>1/2/2013 15:20:15</td>\n",
       "      <td>1116</td>\n",
       "      <td>531.259259</td>\n",
       "      <td>282236.400549</td>\n",
       "    </tr>\n",
       "    <tr>\n",
       "      <th>3</th>\n",
       "      <td>1/2/2013 15:20:50</td>\n",
       "      <td>69</td>\n",
       "      <td>-515.740741</td>\n",
       "      <td>265988.511660</td>\n",
       "    </tr>\n",
       "    <tr>\n",
       "      <th>4</th>\n",
       "      <td>1/2/2013 15:21:11</td>\n",
       "      <td>1214</td>\n",
       "      <td>629.259259</td>\n",
       "      <td>395967.215364</td>\n",
       "    </tr>\n",
       "  </tbody>\n",
       "</table>\n",
       "</div>"
      ],
      "text/plain": [
       "           Timestamp  How many Facebook friends do you have?  Dev from mean  \\\n",
       "0  1/2/2013 15:19:35                                     589       4.259259   \n",
       "1  1/2/2013 15:19:48                                     241    -343.740741   \n",
       "2  1/2/2013 15:20:15                                    1116     531.259259   \n",
       "3  1/2/2013 15:20:50                                      69    -515.740741   \n",
       "4  1/2/2013 15:21:11                                    1214     629.259259   \n",
       "\n",
       "   Squared deviations  \n",
       "0           18.141289  \n",
       "1       118157.696845  \n",
       "2       282236.400549  \n",
       "3       265988.511660  \n",
       "4       395967.215364  "
      ]
     },
     "execution_count": 17,
     "metadata": {},
     "output_type": "execute_result"
    }
   ],
   "source": [
    "fbfriends['Dev from mean'] = fbfriends['How many Facebook friends do you have?'] - fbf_mean\n",
    "fbfriends.head()"
   ]
  },
  {
   "cell_type": "code",
   "execution_count": 8,
   "metadata": {
    "collapsed": false
   },
   "outputs": [
    {
     "data": {
      "text/plain": [
       "-6.736997790910579e-14"
      ]
     },
     "execution_count": 8,
     "metadata": {},
     "output_type": "execute_result"
    }
   ],
   "source": [
    "fbf_avg_dev = fbfriends['Dev from mean'].mean()\n",
    "fbf_avg_dev"
   ]
  },
  {
   "cell_type": "markdown",
   "metadata": {},
   "source": [
    "<a id='question3'></a>"
   ]
  },
  {
   "cell_type": "markdown",
   "metadata": {},
   "source": [
    "### \t3. Udacians' Facebook Friends (SS)\n",
    "\n",
    "Calculate the squared deviations. What is the sum of all the squared deviations (SS)?\n",
    "\n",
    "$$\\left[SS = \\displaystyle\\sum_{i=1}^{n} (x_i - \\bar{x})^2 \\right]$$"
   ]
  },
  {
   "cell_type": "code",
   "execution_count": 9,
   "metadata": {
    "collapsed": false
   },
   "outputs": [
    {
     "data": {
      "text/html": [
       "<div>\n",
       "<table border=\"1\" class=\"dataframe\">\n",
       "  <thead>\n",
       "    <tr style=\"text-align: right;\">\n",
       "      <th></th>\n",
       "      <th>Timestamp</th>\n",
       "      <th>How many Facebook friends do you have?</th>\n",
       "      <th>Dev from mean</th>\n",
       "      <th>Squared deviations</th>\n",
       "    </tr>\n",
       "  </thead>\n",
       "  <tbody>\n",
       "    <tr>\n",
       "      <th>0</th>\n",
       "      <td>1/2/2013 15:19:35</td>\n",
       "      <td>589</td>\n",
       "      <td>4.259259</td>\n",
       "      <td>18.141289</td>\n",
       "    </tr>\n",
       "    <tr>\n",
       "      <th>1</th>\n",
       "      <td>1/2/2013 15:19:48</td>\n",
       "      <td>241</td>\n",
       "      <td>-343.740741</td>\n",
       "      <td>118157.696845</td>\n",
       "    </tr>\n",
       "    <tr>\n",
       "      <th>2</th>\n",
       "      <td>1/2/2013 15:20:15</td>\n",
       "      <td>1116</td>\n",
       "      <td>531.259259</td>\n",
       "      <td>282236.400549</td>\n",
       "    </tr>\n",
       "    <tr>\n",
       "      <th>3</th>\n",
       "      <td>1/2/2013 15:20:50</td>\n",
       "      <td>69</td>\n",
       "      <td>-515.740741</td>\n",
       "      <td>265988.511660</td>\n",
       "    </tr>\n",
       "    <tr>\n",
       "      <th>4</th>\n",
       "      <td>1/2/2013 15:21:11</td>\n",
       "      <td>1214</td>\n",
       "      <td>629.259259</td>\n",
       "      <td>395967.215364</td>\n",
       "    </tr>\n",
       "  </tbody>\n",
       "</table>\n",
       "</div>"
      ],
      "text/plain": [
       "           Timestamp  How many Facebook friends do you have?  Dev from mean  \\\n",
       "0  1/2/2013 15:19:35                                     589       4.259259   \n",
       "1  1/2/2013 15:19:48                                     241    -343.740741   \n",
       "2  1/2/2013 15:20:15                                    1116     531.259259   \n",
       "3  1/2/2013 15:20:50                                      69    -515.740741   \n",
       "4  1/2/2013 15:21:11                                    1214     629.259259   \n",
       "\n",
       "   Squared deviations  \n",
       "0           18.141289  \n",
       "1       118157.696845  \n",
       "2       282236.400549  \n",
       "3       265988.511660  \n",
       "4       395967.215364  "
      ]
     },
     "execution_count": 9,
     "metadata": {},
     "output_type": "execute_result"
    }
   ],
   "source": [
    "fbfriends['Squared deviations'] = fbfriends['Dev from mean']**2\n",
    "fbfriends.head()"
   ]
  },
  {
   "cell_type": "code",
   "execution_count": 10,
   "metadata": {
    "collapsed": false
   },
   "outputs": [
    {
     "data": {
      "text/plain": [
       "4978411.185185185"
      ]
     },
     "execution_count": 10,
     "metadata": {},
     "output_type": "execute_result"
    }
   ],
   "source": [
    "fbf_sqd_dev_sum = fbfriends['Squared deviations'].sum()\n",
    "fbf_sqd_dev_sum"
   ]
  },
  {
   "cell_type": "markdown",
   "metadata": {},
   "source": [
    "<a id='question4'></a>"
   ]
  },
  {
   "cell_type": "markdown",
   "metadata": {},
   "source": [
    "###  4. Udacians' Facebook Friends (Variance)\n",
    "\n",
    "Calculate the variance of Udacians' Facebook friends (i.e., the average squared deviation)."
   ]
  },
  {
   "cell_type": "code",
   "execution_count": 12,
   "metadata": {
    "collapsed": false
   },
   "outputs": [
    {
     "data": {
      "text/plain": [
       "184385.59945130313"
      ]
     },
     "execution_count": 12,
     "metadata": {},
     "output_type": "execute_result"
    }
   ],
   "source": [
    "fbf_variance = fbf_sqd_dev_sum / fbfriends['Squared deviations'].count()\n",
    "fbf_variance"
   ]
  },
  {
   "cell_type": "markdown",
   "metadata": {},
   "source": [
    "<a id='question5'></a>"
   ]
  },
  {
   "cell_type": "markdown",
   "metadata": {},
   "source": [
    "### 5. Udacians' Facebook Friends (Std Dev)\n",
    "\n",
    "Calculate the standard deviation."
   ]
  },
  {
   "cell_type": "code",
   "execution_count": 13,
   "metadata": {
    "collapsed": false
   },
   "outputs": [
    {
     "data": {
      "text/plain": [
       "429.40144323383817"
      ]
     },
     "execution_count": 13,
     "metadata": {},
     "output_type": "execute_result"
    }
   ],
   "source": [
    "import math\n",
    "fbf_std = math.sqrt(fbf_variance)\n",
    "fbf_std"
   ]
  },
  {
   "cell_type": "markdown",
   "metadata": {},
   "source": [
    "<a id='question6'></a>"
   ]
  },
  {
   "cell_type": "markdown",
   "metadata": {},
   "source": [
    "### 6. Udacians' Facebook Friends (mean +/- std dev)\n",
    "\n",
    "A person who has ...... facebook friends has a number of Facebook friends one standard deviation above the mean.\n",
    "\n",
    "A person who has ...... facebook friends has a number of Facebook friends one standard deviation below the mean."
   ]
  },
  {
   "cell_type": "code",
   "execution_count": 18,
   "metadata": {
    "collapsed": false
   },
   "outputs": [
    {
     "data": {
      "text/plain": [
       "1014.142183974579"
      ]
     },
     "execution_count": 18,
     "metadata": {},
     "output_type": "execute_result"
    }
   ],
   "source": [
    "fbf_plus_std = fbf_mean + fbf_std\n",
    "fbf_plus_std"
   ]
  },
  {
   "cell_type": "code",
   "execution_count": 19,
   "metadata": {
    "collapsed": false
   },
   "outputs": [
    {
     "data": {
      "text/plain": [
       "155.3392975069026"
      ]
     },
     "execution_count": 19,
     "metadata": {},
     "output_type": "execute_result"
    }
   ],
   "source": [
    "fbf_min_std = fbf_mean - fbf_std\n",
    "fbf_min_std"
   ]
  },
  {
   "cell_type": "markdown",
   "metadata": {},
   "source": [
    "<a id='question7'></a>"
   ]
  },
  {
   "cell_type": "markdown",
   "metadata": {},
   "source": [
    "### 7. Udacians' Facebook Friends (proportion)\n",
    "\n",
    "What proportion of Udacians have a number of Facebook friends between the two values you calculated in the last exercise?\n",
    "\n",
    "Is this what you would expect?"
   ]
  },
  {
   "cell_type": "code",
   "execution_count": 27,
   "metadata": {
    "collapsed": false
   },
   "outputs": [
    {
     "data": {
      "text/plain": [
       "0.66666666666666663"
      ]
     },
     "execution_count": 27,
     "metadata": {},
     "output_type": "execute_result"
    }
   ],
   "source": [
    "count = 0\n",
    "for num in fbfriends['How many Facebook friends do you have?']:\n",
    "    if fbf_min_std < num and num < fbf_plus_std:\n",
    "        count += 1\n",
    "fbf_prop_onestd = count / fbfriends['How many Facebook friends do you have?'].count()\n",
    "fbf_prop_onestd"
   ]
  },
  {
   "cell_type": "markdown",
   "metadata": {},
   "source": [
    "<b>Answer: </b> Yes, this is what you would expect."
   ]
  },
  {
   "cell_type": "markdown",
   "metadata": {},
   "source": [
    "<a id='question8'></a>"
   ]
  },
  {
   "cell_type": "markdown",
   "metadata": {},
   "source": [
    "### 8. Udacians' Facebook Friends (sample sd)\n",
    "\n",
    "If we treated these data as a sample rather than a population, what is the sample standard deviation? (Hint: Use Bessel's Correction)"
   ]
  },
  {
   "cell_type": "code",
   "execution_count": 29,
   "metadata": {
    "collapsed": false
   },
   "outputs": [
    {
     "data": {
      "text/plain": [
       "437.58125334199735"
      ]
     },
     "execution_count": 29,
     "metadata": {},
     "output_type": "execute_result"
    }
   ],
   "source": [
    "fbf_sample_sd = math.sqrt(fbf_sqd_dev_sum / (fbfriends['How many Facebook friends do you have?'].count() - 1))\n",
    "fbf_sample_sd"
   ]
  },
  {
   "cell_type": "markdown",
   "metadata": {},
   "source": [
    "<a id='question13'></a>"
   ]
  },
  {
   "cell_type": "markdown",
   "metadata": {},
   "source": [
    "### 13. BBC Sample Scores (Std. Dev.)\n",
    "\n",
    "Refer back to our sample from the BBC Face Memory Test. (link below)\n",
    "\n",
    "What is the standard deviation of the Recognition Scores?\n",
    "\n",
    "What is the standard deviation of the Temporal Memory Scores? "
   ]
  },
  {
   "cell_type": "code",
   "execution_count": 31,
   "metadata": {
    "collapsed": false
   },
   "outputs": [
    {
     "data": {
      "text/html": [
       "<div>\n",
       "<table border=\"1\" class=\"dataframe\">\n",
       "  <thead>\n",
       "    <tr style=\"text-align: right;\">\n",
       "      <th></th>\n",
       "      <th>Recognition Score</th>\n",
       "      <th>Temporal Memory Score</th>\n",
       "      <th>Average Recognition</th>\n",
       "      <th>Average Temporal</th>\n",
       "    </tr>\n",
       "  </thead>\n",
       "  <tbody>\n",
       "    <tr>\n",
       "      <th>0</th>\n",
       "      <td>91</td>\n",
       "      <td>86</td>\n",
       "      <td>93.115556</td>\n",
       "      <td>78.026667</td>\n",
       "    </tr>\n",
       "    <tr>\n",
       "      <th>1</th>\n",
       "      <td>95</td>\n",
       "      <td>78</td>\n",
       "      <td>NaN</td>\n",
       "      <td>NaN</td>\n",
       "    </tr>\n",
       "    <tr>\n",
       "      <th>2</th>\n",
       "      <td>95</td>\n",
       "      <td>56</td>\n",
       "      <td>NaN</td>\n",
       "      <td>NaN</td>\n",
       "    </tr>\n",
       "    <tr>\n",
       "      <th>3</th>\n",
       "      <td>91</td>\n",
       "      <td>81</td>\n",
       "      <td>NaN</td>\n",
       "      <td>NaN</td>\n",
       "    </tr>\n",
       "    <tr>\n",
       "      <th>4</th>\n",
       "      <td>100</td>\n",
       "      <td>75</td>\n",
       "      <td>NaN</td>\n",
       "      <td>NaN</td>\n",
       "    </tr>\n",
       "  </tbody>\n",
       "</table>\n",
       "</div>"
      ],
      "text/plain": [
       "   Recognition Score  Temporal Memory Score  Average Recognition  \\\n",
       "0                 91                     86            93.115556   \n",
       "1                 95                     78                  NaN   \n",
       "2                 95                     56                  NaN   \n",
       "3                 91                     81                  NaN   \n",
       "4                100                     75                  NaN   \n",
       "\n",
       "   Average Temporal  \n",
       "0         78.026667  \n",
       "1               NaN  \n",
       "2               NaN  \n",
       "3               NaN  \n",
       "4               NaN  "
      ]
     },
     "execution_count": 31,
     "metadata": {},
     "output_type": "execute_result"
    }
   ],
   "source": [
    "bbcfmt = pd.read_csv('../Lesson 3/Sample Memory Scores - PS3, PS4 - Sheet1.csv')\n",
    "bbcfmt.head()"
   ]
  },
  {
   "cell_type": "code",
   "execution_count": 33,
   "metadata": {
    "collapsed": false
   },
   "outputs": [
    {
     "data": {
      "text/plain": [
       "22.568709464955695"
      ]
     },
     "execution_count": 33,
     "metadata": {},
     "output_type": "execute_result"
    }
   ],
   "source": [
    "Recog_score_std = bbcfmt['Recognition Score'].std(ddof=0)\n",
    "Recog_score_std"
   ]
  },
  {
   "cell_type": "code",
   "execution_count": 34,
   "metadata": {
    "collapsed": false
   },
   "outputs": [
    {
     "data": {
      "text/plain": [
       "12.77981742175269"
      ]
     },
     "execution_count": 34,
     "metadata": {},
     "output_type": "execute_result"
    }
   ],
   "source": [
    "TempMem_score = bbcfmt['Temporal Memory Score'].std(ddof=0)\n",
    "TempMem_score"
   ]
  },
  {
   "cell_type": "markdown",
   "metadata": {},
   "source": [
    "<a id='question14'></a>"
   ]
  },
  {
   "cell_type": "markdown",
   "metadata": {},
   "source": [
    "### 14. BBC Sample Scores (Variability)\n",
    "\n",
    "Which scores have more variability, base on the standard deviations?"
   ]
  },
  {
   "cell_type": "markdown",
   "metadata": {},
   "source": [
    "<b>Answer: </b> Recognition Scores"
   ]
  },
  {
   "cell_type": "code",
   "execution_count": null,
   "metadata": {
    "collapsed": true
   },
   "outputs": [],
   "source": []
  }
 ],
 "metadata": {
  "kernelspec": {
   "display_name": "Python 3",
   "language": "python",
   "name": "python3"
  },
  "language_info": {
   "codemirror_mode": {
    "name": "ipython",
    "version": 3
   },
   "file_extension": ".py",
   "mimetype": "text/x-python",
   "name": "python",
   "nbconvert_exporter": "python",
   "pygments_lexer": "ipython3",
   "version": "3.4.3"
  }
 },
 "nbformat": 4,
 "nbformat_minor": 0
}
